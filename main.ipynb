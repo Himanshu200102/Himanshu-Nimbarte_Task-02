{
 "cells": [
  {
   "cell_type": "markdown",
   "id": "a1afdf52",
   "metadata": {},
   "source": [
    "# Importing all the libraries"
   ]
  },
  {
   "cell_type": "code",
   "execution_count": 140,
   "id": "5d1180b3",
   "metadata": {},
   "outputs": [],
   "source": [
    "import pandas as pd\n",
    "from sklearn.model_selection import train_test_split\n",
    "from sklearn.preprocessing import LabelEncoder\n",
    "from sklearn.preprocessing import MultiLabelBinarizer\n",
    "from sklearn.metrics import accuracy_score, classification_report\n",
    "from tensorflow import keras\n",
    "from tensorflow.keras import layers\n",
    "from tensorflow.keras.utils import to_categorical\n",
    "from tensorflow.keras.callbacks import EarlyStopping\n",
    "import matplotlib.pyplot as plt\n",
    "import tensorflow as tf\n",
    "from transformers import BertTokenizer, TFBertForSequenceClassification\n",
    "from tensorflow.keras.optimizers import Adam\n",
    "from tensorflow.keras.losses import BinaryCrossentropy\n",
    "from tensorflow.keras.metrics import BinaryAccuracy"
   ]
  },
  {
   "cell_type": "code",
   "execution_count": 141,
   "id": "d9d8311d",
   "metadata": {},
   "outputs": [],
   "source": [
    "# Loading Dataset in a variable\n",
    "df = pd.read_csv('Problem_Dataset.csv')"
   ]
  },
  {
   "cell_type": "code",
   "execution_count": 142,
   "id": "8ec33054",
   "metadata": {},
   "outputs": [],
   "source": [
    "# we will save Obs and Type column respectively\n",
    "X = df['Obs'].values\n",
    "y = df['Type'].values"
   ]
  },
  {
   "cell_type": "code",
   "execution_count": 143,
   "id": "8ddda966",
   "metadata": {},
   "outputs": [
    {
     "name": "stdout",
     "output_type": "stream",
     "text": [
      "7\n"
     ]
    }
   ],
   "source": [
    "# Converting Strings labels to Integer\n",
    "label_encoder = LabelEncoder()\n",
    "y_encode = label_encoder.fit_transform(y)\n",
    "# calculating number of classes i.e number of labels which will be further use for encoding\n",
    "num_classes = len(label_encoder.classes_)\n",
    "print(num_classes)"
   ]
  },
  {
   "cell_type": "code",
   "execution_count": 144,
   "id": "7c0fa81a",
   "metadata": {},
   "outputs": [],
   "source": [
    "# Splitting data in train and validation sets\n",
    "X_train, X_val, y_train, y_val = train_test_split(X, y_encode, test_size=0.2, random_state=42)"
   ]
  },
  {
   "cell_type": "code",
   "execution_count": 145,
   "id": "5483e013",
   "metadata": {},
   "outputs": [],
   "source": [
    "# here tokenizer is used to convert the sentences in X_train to numeric values for every word\n",
    "tokenizer = keras.preprocessing.text.Tokenizer()\n",
    "tokenizer.fit_on_texts(X_train)\n",
    "X_train_seq = tokenizer.texts_to_sequences(X_train)\n",
    "X_val_seq = tokenizer.texts_to_sequences(X_val)"
   ]
  },
  {
   "cell_type": "code",
   "execution_count": 146,
   "id": "300e2a70",
   "metadata": {},
   "outputs": [],
   "source": [
    "# here padding is done so that the variable words in sentences can be made of same size\n",
    "X_train_padded = keras.preprocessing.sequence.pad_sequences(X_train_seq)\n",
    "X_val_padded = keras.preprocessing.sequence.pad_sequences(X_val_seq, maxlen=X_train_padded.shape[1])"
   ]
  },
  {
   "cell_type": "code",
   "execution_count": 147,
   "id": "aed47c30",
   "metadata": {},
   "outputs": [],
   "source": [
    "# Performing one hot encoding, as we are working with binary we will convert all the labels in binary and store them as one's and zero's\n",
    "y_train_oneHot = to_categorical(y_train, num_classes=num_classes)\n",
    "y_val_oneHot = to_categorical(y_val, num_classes=num_classes)"
   ]
  },
  {
   "cell_type": "markdown",
   "id": "a0f43098",
   "metadata": {},
   "source": [
    "# Binary Classification"
   ]
  },
  {
   "cell_type": "code",
   "execution_count": 148,
   "id": "9ea84cdc",
   "metadata": {},
   "outputs": [],
   "source": [
    "models = {}\n",
    "\n",
    "for label in label_encoder.classes_:\n",
    "    # Define the model architecture (adjust as needed)\n",
    "    model = keras.Sequential([\n",
    "        layers.Embedding(input_dim=len(tokenizer.word_index) + 1, output_dim=100, input_length=X_train_padded.shape[1]),\n",
    "        layers.LSTM(64),\n",
    "        layers.Dense(32, activation='relu'),\n",
    "        layers.Dense(num_classes, activation='softmax')\n",
    "    ])"
   ]
  },
  {
   "cell_type": "code",
   "execution_count": 149,
   "id": "fe3a1001",
   "metadata": {},
   "outputs": [
    {
     "name": "stdout",
     "output_type": "stream",
     "text": [
      "Epoch 1/5\n",
      "27/27 - 4s - loss: 1.9351 - accuracy: 0.2036 - val_loss: 1.9099 - val_accuracy: 0.1286 - 4s/epoch - 140ms/step\n",
      "Epoch 2/5\n",
      "27/27 - 0s - loss: 1.7715 - accuracy: 0.2310 - val_loss: 1.6636 - val_accuracy: 0.3048 - 472ms/epoch - 17ms/step\n",
      "Epoch 3/5\n",
      "27/27 - 0s - loss: 1.3437 - accuracy: 0.4738 - val_loss: 1.2891 - val_accuracy: 0.5476 - 495ms/epoch - 18ms/step\n",
      "Epoch 4/5\n",
      "27/27 - 1s - loss: 0.8279 - accuracy: 0.7226 - val_loss: 0.9083 - val_accuracy: 0.6905 - 924ms/epoch - 34ms/step\n",
      "Epoch 5/5\n",
      "27/27 - 1s - loss: 0.4261 - accuracy: 0.8690 - val_loss: 0.7428 - val_accuracy: 0.7381 - 538ms/epoch - 20ms/step\n"
     ]
    }
   ],
   "source": [
    "# Compile the model\n",
    "model.compile(optimizer='adam', loss='categorical_crossentropy', metrics=['accuracy'])\n",
    "\n",
    "# Train the model\n",
    "model.fit(X_train_padded, y_train_oneHot, validation_data=(X_val_padded, y_val_oneHot), epochs=5, batch_size=32, verbose=2)\n",
    "\n",
    "models[label] = model"
   ]
  },
  {
   "cell_type": "code",
   "execution_count": 110,
   "id": "d635ab5d",
   "metadata": {},
   "outputs": [
    {
     "name": "stdout",
     "output_type": "stream",
     "text": [
      "7/7 [==============================] - 0s 6ms/step\n"
     ]
    }
   ],
   "source": [
    "# Evaluating the models *\n",
    "for label, model in models.items():\n",
    "    y_val_pred_oneHot = model.predict(X_val_padded)\n",
    "    y_val_pred = label_encoder.inverse_transform(y_val_pred_oneHot.argmax(axis=1))\n",
    "    y_val_true = label_encoder.inverse_transform(y_val)\n",
    "\n",
    "    accuracy = accuracy_score(y_val_true, y_val_pred)\n",
    "    report = classification_report(y_val_true, y_val_pred,output_dict=True)"
   ]
  },
  {
   "cell_type": "code",
   "execution_count": 111,
   "id": "71ea407b",
   "metadata": {},
   "outputs": [],
   "source": [
    "# print(f\"Label: {label}\")\n",
    "# print(f\"Validation Accuracy: {accuracy:.4f}\")\n",
    "# print(f\"Classification Report:\\n{report}\")\n",
    "# print(\"=\"*40)"
   ]
  },
  {
   "cell_type": "code",
   "execution_count": 160,
   "id": "8a3d148c",
   "metadata": {},
   "outputs": [],
   "source": [
    "report_df = pd.DataFrame(report).transpose()\n",
    "# Save the DataFrame to a CSV file\n",
    "report_df.to_csv('classification_report_Binary.csv', index=True)\n",
    "\n",
    "predictions_df = pd.DataFrame(y_val_pred, columns=label_encoder.classes_)\n",
    "predictions_df.to_csv('Binary_predictions.csv', index=False)"
   ]
  },
  {
   "cell_type": "markdown",
   "id": "a17a022a",
   "metadata": {},
   "source": [
    "# Multilabel Classification Model"
   ]
  },
  {
   "cell_type": "code",
   "execution_count": 150,
   "id": "c8dcb639",
   "metadata": {},
   "outputs": [],
   "source": [
    "X = df['Obs'].values\n",
    "y = df['Type'].apply(lambda x: x.split(','))  # Assuming labels are comma-separated strings\n",
    "label_binarizer = MultiLabelBinarizer()\n",
    "y_encoded = label_binarizer.fit_transform(y)\n",
    "num_classes = len(label_binarizer.classes_)\n",
    "\n",
    "# Split the data into training and validation sets\n",
    "X_train, X_val, y_train, y_val = train_test_split(X, y_encoded, test_size=0.2, random_state=42)\n",
    "\n",
    "# Tokenize the text data\n",
    "tokenizer = keras.preprocessing.text.Tokenizer()\n",
    "tokenizer.fit_on_texts(X_train)\n",
    "\n",
    "X_train_seq = tokenizer.texts_to_sequences(X_train)\n",
    "X_val_seq = tokenizer.texts_to_sequences(X_val)\n",
    "\n",
    "# Pad sequences to ensure consistent length\n",
    "X_train_padded = keras.preprocessing.sequence.pad_sequences(X_train_seq)\n",
    "X_val_padded = keras.preprocessing.sequence.pad_sequences(X_val_seq, maxlen=X_train_padded.shape[1])"
   ]
  },
  {
   "cell_type": "code",
   "execution_count": 151,
   "id": "a3c81d82",
   "metadata": {},
   "outputs": [],
   "source": [
    "model = keras.Sequential([\n",
    "    layers.Embedding(input_dim=len(tokenizer.word_index) + 1, output_dim=100, input_length=X_train_padded.shape[1]),\n",
    "    layers.LSTM(64),\n",
    "    layers.Dense(32, activation='relu'),\n",
    "    layers.Dense(num_classes, activation='sigmoid')  # Sigmoid for multi-label classification\n",
    "])"
   ]
  },
  {
   "cell_type": "code",
   "execution_count": 152,
   "id": "ad39e907",
   "metadata": {},
   "outputs": [
    {
     "name": "stdout",
     "output_type": "stream",
     "text": [
      "Epoch 1/10\n",
      "27/27 [==============================] - 3s 32ms/step - loss: 0.6010 - accuracy: 0.1417 - val_loss: 0.4465 - val_accuracy: 0.1238\n",
      "Epoch 2/10\n",
      "27/27 [==============================] - 0s 14ms/step - loss: 0.4163 - accuracy: 0.1381 - val_loss: 0.4092 - val_accuracy: 0.1667\n",
      "Epoch 3/10\n",
      "27/27 [==============================] - 0s 13ms/step - loss: 0.4085 - accuracy: 0.1690 - val_loss: 0.4057 - val_accuracy: 0.1619\n",
      "Epoch 4/10\n",
      "27/27 [==============================] - 0s 15ms/step - loss: 0.3976 - accuracy: 0.2512 - val_loss: 0.3836 - val_accuracy: 0.3619\n",
      "Epoch 5/10\n",
      "27/27 [==============================] - 0s 14ms/step - loss: 0.3528 - accuracy: 0.3881 - val_loss: 0.3520 - val_accuracy: 0.3238\n",
      "Epoch 6/10\n",
      "27/27 [==============================] - 0s 14ms/step - loss: 0.3104 - accuracy: 0.4762 - val_loss: 0.3111 - val_accuracy: 0.5381\n",
      "Epoch 7/10\n",
      "27/27 [==============================] - 0s 14ms/step - loss: 0.2617 - accuracy: 0.7036 - val_loss: 0.2716 - val_accuracy: 0.5571\n",
      "Epoch 8/10\n",
      "27/27 [==============================] - 0s 14ms/step - loss: 0.2141 - accuracy: 0.7488 - val_loss: 0.2380 - val_accuracy: 0.6714\n",
      "Epoch 9/10\n",
      "27/27 [==============================] - 0s 16ms/step - loss: 0.1652 - accuracy: 0.8679 - val_loss: 0.2521 - val_accuracy: 0.6333\n",
      "Epoch 10/10\n",
      "27/27 [==============================] - 0s 14ms/step - loss: 0.1277 - accuracy: 0.9048 - val_loss: 0.1986 - val_accuracy: 0.7381\n",
      "7/7 [==============================] - 0s 7ms/step\n"
     ]
    }
   ],
   "source": [
    "model.compile(optimizer='adam', loss='binary_crossentropy', metrics=['accuracy'])\n",
    "X_val_padded = keras.preprocessing.sequence.pad_sequences(X_val_seq, maxlen=X_train_padded.shape[1])\n",
    "# Train the model with early stopping\n",
    "early_stopping = EarlyStopping(patience=3, restore_best_weights=True)\n",
    "model.fit(X_train_padded, y_train, validation_data=(X_val_padded, y_val), epochs=10, batch_size=32, callbacks=[early_stopping])\n",
    "\n",
    "# Evaluate the model\n",
    "y_val_pred = model.predict(X_val_padded)\n",
    "y_val_pred_binary = (y_val_pred > 0.5).astype(int)"
   ]
  },
  {
   "cell_type": "code",
   "execution_count": 153,
   "id": "fbb71e02",
   "metadata": {},
   "outputs": [
    {
     "name": "stderr",
     "output_type": "stream",
     "text": [
      "C:\\Users\\ual-laptop\\anaconda3\\Lib\\site-packages\\sklearn\\metrics\\_classification.py:1469: UndefinedMetricWarning: Precision and F-score are ill-defined and being set to 0.0 in samples with no predicted labels. Use `zero_division` parameter to control this behavior.\n",
      "  _warn_prf(average, modifier, msg_start, len(result))\n"
     ]
    }
   ],
   "source": [
    "report = classification_report(y_val, y_val_pred_binary, target_names=label_binarizer.classes_,output_dict=True)\n",
    "# print(\"Classification Report:\\n\", report)"
   ]
  },
  {
   "cell_type": "code",
   "execution_count": 161,
   "id": "43acf1b9",
   "metadata": {},
   "outputs": [],
   "source": [
    "report_df = pd.DataFrame(report).transpose()\n",
    "# Save the DataFrame to a CSV file\n",
    "report_df.to_csv('classification_report_Multi.csv', index=True)\n",
    "\n",
    "predictions_df = pd.DataFrame(y_val_pred_binary, columns=label_binarizer.classes_)\n",
    "predictions_df.to_csv('multiLabel_predictions.csv', index=False)"
   ]
  },
  {
   "cell_type": "markdown",
   "id": "44742a96",
   "metadata": {},
   "source": [
    "# BERT Model (Some Issues) *"
   ]
  },
  {
   "cell_type": "code",
   "execution_count": 89,
   "id": "5092f15f",
   "metadata": {},
   "outputs": [],
   "source": [
    "# Tokenize the text data using BERT tokenizer\n",
    "tokenizer = BertTokenizer.from_pretrained('bert-base-uncased')\n",
    "\n",
    "X_train_encoded = tokenizer(X_train.tolist(), padding=True, truncation=True, return_tensors='tf', max_length=128)\n",
    "X_val_encoded = tokenizer(X_val.tolist(), padding=True, truncation=True, return_tensors='tf', max_length=128)"
   ]
  },
  {
   "cell_type": "code",
   "execution_count": 90,
   "id": "9d2ae402",
   "metadata": {},
   "outputs": [
    {
     "name": "stderr",
     "output_type": "stream",
     "text": [
      "All PyTorch model weights were used when initializing TFBertForSequenceClassification.\n",
      "\n",
      "Some weights or buffers of the TF 2.0 model TFBertForSequenceClassification were not initialized from the PyTorch model and are newly initialized: ['classifier.weight', 'classifier.bias']\n",
      "You should probably TRAIN this model on a down-stream task to be able to use it for predictions and inference.\n"
     ]
    }
   ],
   "source": [
    "# Load pre-trained BERT model\n",
    "bert_model = TFBertForSequenceClassification.from_pretrained('bert-base-uncased', num_labels=num_classes)"
   ]
  },
  {
   "cell_type": "code",
   "execution_count": 92,
   "id": "d30fabce",
   "metadata": {},
   "outputs": [],
   "source": [
    "# # Compile the model\n",
    "# bert_model.compile(optimizer=Adam(learning_rate=2e-5),\n",
    "#                    loss=BinaryCrossentropy(),\n",
    "#                    metrics=[BinaryAccuracy()])\n",
    "\n",
    "# # Training the model with early stopping\n",
    "# early_stopping = EarlyStopping(patience=3, restore_best_weights=True)\n",
    "# bert_model.fit(X_train_encoded, y_train, validation_data=(X_val_encoded, y_val), epochs=5, batch_size=32, callbacks=[early_stopping])\n",
    "\n",
    "# # Evaluating the model\n",
    "# y_val_pred_logits = bert_model.predict(X_val_encoded)\n",
    "# y_val_pred = tf.sigmoid(y_val_pred_logits).numpy()\n",
    "# y_val_pred_binary = (y_val_pred > 0.5).astype(int)\n",
    "\n",
    "# # Reporting precision, recall, F1-score\n",
    "# report = classification_report(y_val, y_val_pred_binary, target_names=label_binarizer.classes_)\n",
    "# print(\"Classification Report:\\n\", report)"
   ]
  },
  {
   "cell_type": "markdown",
   "id": "946a3b2a",
   "metadata": {},
   "source": [
    "# Plotting all the seven labels for Precision, Recall and F1-Score"
   ]
  },
  {
   "cell_type": "markdown",
   "id": "e6d8aa12",
   "metadata": {},
   "source": [
    "## Binary Clasification Plots"
   ]
  },
  {
   "cell_type": "code",
   "execution_count": 135,
   "id": "772e7aeb",
   "metadata": {},
   "outputs": [
    {
     "data": {
      "image/png": "[encoded data removed]",
      "text/plain": [
       "<Figure size 640x480 with 4 Axes>"
      ]
     },
     "metadata": {},
     "output_type": "display_data"
    }
   ],
   "source": [
    "report_binary = pd.read_csv('classification_report_Binary.csv') \n",
    "  \n",
    "df = pd.DataFrame(report_binary) \n",
    "  \n",
    "X = list(df.iloc[:, 0]) \n",
    "Y = list(df.iloc[:, 1])\n",
    "\n",
    "X1 = list(df.iloc[:, 0]) \n",
    "Y1 = list(df.iloc[:, 2])\n",
    "\n",
    "X2 = list(df.iloc[:, 0]) \n",
    "Y2 = list(df.iloc[:, 3])\n",
    "fig, axs = plt.subplots(2, 2)\n",
    "axs[0, 0].bar(X, Y)\n",
    "axs[0, 0].set_title(\"Precision\")\n",
    "axs[0, 1].bar(X1, Y1)\n",
    "axs[0, 1].set_title(\"Recall\")\n",
    "axs[1, 0].bar(X2, Y2)\n",
    "axs[1, 0].set_title(\"F1-Score\")\n",
    "\n",
    "for ax in axs.flat:\n",
    "    ax.set(xlabel='Type', ylabel='Score')\n",
    "\n",
    "# Hide x labels and tick labels for top plots and y ticks for right plots.\n",
    "for ax in axs.flat:\n",
    "    ax.label_outer()"
   ]
  },
  {
   "cell_type": "markdown",
   "id": "592f3443",
   "metadata": {},
   "source": [
    "## Multilabel Classification Plots"
   ]
  },
  {
   "cell_type": "code",
   "execution_count": 156,
   "id": "3f70bfc5",
   "metadata": {},
   "outputs": [
    {
     "data": {
      "image/png": "[encoded data removed]",
      "text/plain": [
       "<Figure size 640x480 with 4 Axes>"
      ]
     },
     "metadata": {},
     "output_type": "display_data"
    }
   ],
   "source": [
    "report_binary = pd.read_csv('classification_report_Multi.csv') \n",
    "  \n",
    "df = pd.DataFrame(report_binary) \n",
    "  \n",
    "X = list(df.iloc[:, 0]) \n",
    "Y = list(df.iloc[:, 1])\n",
    "\n",
    "X1 = list(df.iloc[:, 0]) \n",
    "Y1 = list(df.iloc[:, 2])\n",
    "\n",
    "X2 = list(df.iloc[:, 0]) \n",
    "Y2 = list(df.iloc[:, 3])\n",
    "fig, axs = plt.subplots(2, 2)\n",
    "axs[0, 0].bar(X, Y)\n",
    "axs[0, 0].set_title(\"Precision\")\n",
    "axs[0, 1].bar(X1, Y1)\n",
    "axs[0, 1].set_title(\"Recall\")\n",
    "axs[1, 0].bar(X2, Y2)\n",
    "axs[1, 0].set_title(\"F1-Score\")\n",
    "\n",
    "for ax in axs.flat:\n",
    "    ax.set(xlabel='Type', ylabel='Score')\n",
    "\n",
    "# Hide x labels and tick labels for top plots and y ticks for right plots.\n",
    "for ax in axs.flat:\n",
    "    ax.label_outer()"
   ]
  },
  {
   "cell_type": "code",
   "execution_count": null,
   "id": "5944e0d4",
   "metadata": {},
   "outputs": [],
   "source": []
  }
 ],
 "metadata": {
  "kernelspec": {
   "display_name": "Python 3 (ipykernel)",
   "language": "python",
   "name": "python3"
  },
  "language_info": {
   "codemirror_mode": {
    "name": "ipython",
    "version": 3
   },
   "file_extension": ".py",
   "mimetype": "text/x-python",
   "name": "python",
   "nbconvert_exporter": "python",
   "pygments_lexer": "ipython3",
   "version": "3.11.4"
  }
 },
 "nbformat": 4,
 "nbformat_minor": 5
}
